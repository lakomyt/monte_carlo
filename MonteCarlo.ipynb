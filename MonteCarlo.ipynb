{
  "nbformat": 4,
  "nbformat_minor": 0,
  "metadata": {
    "colab": {
      "name": "MonteCarlo.ipynb",
      "version": "0.3.2",
      "provenance": [],
      "collapsed_sections": []
    },
    "kernelspec": {
      "name": "python3",
      "display_name": "Python 3"
    },
    "accelerator": "GPU"
  },
  "cells": [
    {
      "cell_type": "code",
      "metadata": {
        "id": "ItdOMRcmym_t",
        "colab_type": "code",
        "colab": {}
      },
      "source": [
        "!apt-get install nvidia-cuda-toolkit\n",
        "!pip3 install numba\n"
      ],
      "execution_count": 0,
      "outputs": []
    },
    {
      "cell_type": "code",
      "metadata": {
        "id": "7wAbyfl_zMBC",
        "colab_type": "code",
        "colab": {}
      },
      "source": [
        "import os\n",
        "os.environ['NUMBAPRO_LIBDEVICE'] = \"/usr/lib/nvidia-cuda-toolkit/libdevice\"\n",
        "os.environ['NUMBAPRO_NVVM'] = \"/usr/lib/x86_64-linux-gnu/libnvvm.so\""
      ],
      "execution_count": 0,
      "outputs": []
    },
    {
      "cell_type": "code",
      "metadata": {
        "id": "e9WnYZl_uCDF",
        "colab_type": "code",
        "colab": {}
      },
      "source": [
        "import matplotlib.pyplot as plt\n",
        "import matplotlib.patches as ptc\n",
        "from random import uniform\n",
        "import numba\n",
        "\n",
        "from numba import cuda\n",
        "from numba.cuda.random import create_xoroshiro128p_states, xoroshiro128p_uniform_float32\n",
        "import numpy as np"
      ],
      "execution_count": 0,
      "outputs": []
    },
    {
      "cell_type": "code",
      "metadata": {
        "id": "FelKwqBww9qe",
        "colab_type": "code",
        "outputId": "70ef8fec-401f-4cda-fb2e-9e5d4c9e0513",
        "colab": {
          "base_uri": "https://localhost:8080/",
          "height": 34
        }
      },
      "source": [
        "from numba import cuda\n",
        "print(cuda.gpus)"
      ],
      "execution_count": 0,
      "outputs": [
        {
          "output_type": "stream",
          "text": [
            "<Managed Device 0>\n"
          ],
          "name": "stdout"
        }
      ]
    },
    {
      "cell_type": "code",
      "metadata": {
        "id": "xnByW1hJtUsr",
        "colab_type": "code",
        "colab": {}
      },
      "source": [
        "@cuda.jit()\n",
        "def mcCount(rng_states, iterations, out):\n",
        "    \n",
        "    thread_id = cuda.grid(1)\n",
        "    \n",
        "    inside = 0\n",
        "    for i in range(iterations):\n",
        "        x = xoroshiro128p_uniform_float32(rng_states, thread_id)\n",
        "        y = xoroshiro128p_uniform_float32(rng_states, thread_id)\n",
        "        if x**2 + y**2 <= 1.0:\n",
        "            inside += 1\n",
        "\n",
        "    out[thread_id] = 4.0 * inside / iterations"
      ],
      "execution_count": 0,
      "outputs": []
    },
    {
      "cell_type": "code",
      "metadata": {
        "id": "RyLxYLbsyJKq",
        "colab_type": "code",
        "outputId": "557c05ed-1dc8-4487-e4f6-19bd0af45bb5",
        "colab": {
          "base_uri": "https://localhost:8080/",
          "height": 34
        }
      },
      "source": [
        "import time\n",
        "threads_per_block = 64\n",
        "blocks = 100\n",
        "rng_states = create_xoroshiro128p_states(threads_per_block * blocks, seed=time.time())\n",
        "out = np.zeros(threads_per_block * blocks, dtype=np.float32)\n",
        "points = np\n",
        "\n",
        "mcCount[blocks, threads_per_block](rng_states, 1000000, out)\n",
        "print('pi:', out.mean())"
      ],
      "execution_count": 0,
      "outputs": [
        {
          "output_type": "stream",
          "text": [
            "pi: 3.141597\n"
          ],
          "name": "stdout"
        }
      ]
    }
  ]
}